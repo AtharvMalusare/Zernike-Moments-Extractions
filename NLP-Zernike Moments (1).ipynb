{
 "cells": [
  {
   "cell_type": "code",
   "execution_count": null,
   "id": "6857ea7c",
   "metadata": {},
   "outputs": [
    {
     "name": "stdout",
     "output_type": "stream",
     "text": [
      "Requirement already satisfied: numpy in c:\\users\\vaishnavi\\anaconda3\\lib\\site-packages (1.26.4)\n",
      "Requirement already satisfied: mahotas in c:\\users\\vaishnavi\\anaconda3\\lib\\site-packages (1.4.14)\n",
      "Requirement already satisfied: numpy in c:\\users\\vaishnavi\\anaconda3\\lib\\site-packages (from mahotas) (1.26.4)\n",
      "Requirement already satisfied: opencv-python in c:\\users\\vaishnavi\\anaconda3\\lib\\site-packages (4.9.0.80)\n",
      "Requirement already satisfied: numpy>=1.19.3 in c:\\users\\vaishnavi\\anaconda3\\lib\\site-packages (from opencv-python) (1.26.4)\n"
     ]
    },
    {
     "name": "stderr",
     "output_type": "stream",
     "text": [
      "C:\\Users\\vaishnavi\\AppData\\Local\\Temp\\ipykernel_23204\\1643845263.py:50: DeprecationWarning: `np.int0` is a deprecated alias for `np.intp`.  (Deprecated NumPy 1.24)\n",
      "  box = np.int0(cv2.boxPoints(box))\n",
      "C:\\Users\\vaishnavi\\AppData\\Local\\Temp\\ipykernel_23204\\1643845263.py:54: DeprecationWarning: `np.int0` is a deprecated alias for `np.intp`.  (Deprecated NumPy 1.24)\n",
      "  box = np.int0(cv2.boxPoints(box))\n"
     ]
    }
   ],
   "source": [
    "!pip install numpy --upgrade\n",
    "!pip install mahotas\n",
    "!pip install opencv-python\n",
    "\n",
    "from scipy.spatial import distance as dist\n",
    "import numpy as np\n",
    "import mahotas\n",
    "import cv2\n",
    "import imutils\n",
    "\n",
    "def describe_shapes(image):\n",
    "    shapeFeatures = []\n",
    "    \n",
    "    gray = cv2.cvtColor(image, cv2.COLOR_BGR2GRAY)\n",
    "    blurred = cv2.GaussianBlur(gray, (13, 13), 0)\n",
    "    thresh = cv2.threshold(blurred, 50, 255, cv2.THRESH_BINARY)[1]\n",
    "\n",
    "    thresh = cv2.dilate(thresh, None, iterations=4)\n",
    "    thresh = cv2.erode(thresh, None, iterations=2)\n",
    "\n",
    "    cnts = cv2.findContours(thresh.copy(), cv2.RETR_EXTERNAL, cv2.CHAIN_APPROX_SIMPLE)\n",
    "    cnts = imutils.grab_contours(cnts)\n",
    "\n",
    "    for c in cnts:\n",
    "        mask = np.zeros(image.shape[:2], dtype=\"uint8\")\n",
    "        cv2.drawContours(mask, [c], -1, 255, -1)\n",
    "\n",
    "        (x, y, w, h) = cv2.boundingRect(c)\n",
    "        roi = mask[y:y + h, x:x + w]\n",
    "\n",
    "        features = mahotas.features.zernike_moments(roi, cv2.minEnclosingCircle(c)[1], degree=8)\n",
    "        shapeFeatures.append(features)\n",
    "\n",
    "    return (cnts, shapeFeatures)\n",
    "\n",
    "refImagePath = \"C://Users//vaishnavi//onedrive_backup//Desktop//BE//SEM 8//NLP//pokemon_red.png\"\n",
    "refImage = cv2.imread(refImagePath)\n",
    "(_, gameFeatures) = describe_shapes(refImage)\n",
    "\n",
    "shapesImagePath = \"C://Users//vaishnavi//onedrive_backup//Desktop//BE//SEM 8//NLP//shapes.png\"\n",
    "shapesImage = cv2.imread(shapesImagePath)\n",
    "(cnts, shapeFeatures) = describe_shapes(shapesImage)\n",
    "\n",
    "D = dist.cdist(gameFeatures, shapeFeatures)\n",
    "i = np.argmin(D)\n",
    "\n",
    "for (j, c) in enumerate(cnts):\n",
    "    if i != j:\n",
    "        box = cv2.minAreaRect(c)\n",
    "        box = np.int0(cv2.boxPoints(box))\n",
    "        cv2.drawContours(shapesImage, [box], -1, (0, 0, 255), 2)\n",
    "\n",
    "box = cv2.minAreaRect(cnts[i])\n",
    "box = np.int0(cv2.boxPoints(box))\n",
    "cv2.drawContours(shapesImage, [box], -1, (0, 255, 0), 2)\n",
    "(x, y, w, h) = cv2.boundingRect(cnts[i])\n",
    "cv2.putText(shapesImage, \"FOUND!\", (x, y - 10), cv2.FONT_HERSHEY_SIMPLEX, 0.9, (0, 255, 0), 3)\n",
    "\n",
    "cv2.imshow(\"Reference Image\", refImage)\n",
    "cv2.imshow(\"Shapes Image\", shapesImage)\n",
    "cv2.waitKey(0)\n",
    "cv2.destroyAllWindows()\n"
   ]
  },
  {
   "cell_type": "code",
   "execution_count": null,
   "id": "3ecb86da",
   "metadata": {},
   "outputs": [],
   "source": []
  },
  {
   "cell_type": "code",
   "execution_count": null,
   "id": "e6922855",
   "metadata": {},
   "outputs": [],
   "source": []
  },
  {
   "cell_type": "code",
   "execution_count": null,
   "id": "b69044b8",
   "metadata": {},
   "outputs": [],
   "source": []
  }
 ],
 "metadata": {
  "kernelspec": {
   "display_name": "Python 3 (ipykernel)",
   "language": "python",
   "name": "python3"
  },
  "language_info": {
   "codemirror_mode": {
    "name": "ipython",
    "version": 3
   },
   "file_extension": ".py",
   "mimetype": "text/x-python",
   "name": "python",
   "nbconvert_exporter": "python",
   "pygments_lexer": "ipython3",
   "version": "3.10.9"
  }
 },
 "nbformat": 4,
 "nbformat_minor": 5
}
